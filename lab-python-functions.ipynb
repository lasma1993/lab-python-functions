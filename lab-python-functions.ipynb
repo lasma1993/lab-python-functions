{
 "cells": [
  {
   "cell_type": "markdown",
   "id": "25d7736c-ba17-4aff-b6bb-66eba20fbf4e",
   "metadata": {},
   "source": [
    "# Lab | Functions"
   ]
  },
  {
   "cell_type": "markdown",
   "id": "0c581062-8967-4d93-b06e-62833222f930",
   "metadata": {
    "tags": []
   },
   "source": [
    "## Exercise: Managing Customer Orders with Functions\n",
    "\n",
    "In the previous exercise, you improved the code for managing customer orders by using loops and flow control. Now, let's take it a step further and refactor the code by introducing functions.\n",
    "\n",
    "Follow the steps below to complete the exercise:\n",
    "\n",
    "1. Define a function named `initialize_inventory` that takes `products` as a parameter. Inside the function, implement the code for initializing the inventory dictionary using a loop and user input.\n",
    "\n",
    "2. Define a function named `get_customer_orders` that takes no parameters. Inside the function, implement the code for prompting the user to enter the product names using a loop. The function should return the `customer_orders` set.\n",
    "\n",
    "3. Define a function named `update_inventory` that takes `customer_orders` and `inventory` as parameters. Inside the function, implement the code for updating the inventory dictionary based on the customer orders.\n",
    "\n",
    "4. Define a function named `calculate_order_statistics` that takes `customer_orders` and `products` as parameters. Inside the function, implement the code for calculating the order statistics (total products ordered, and percentage of unique products ordered). The function should return these values.\n",
    "\n",
    "5. Define a function named `print_order_statistics` that takes `order_statistics` as a parameter. Inside the function, implement the code for printing the order statistics.\n",
    "\n",
    "6. Define a function named `print_updated_inventory` that takes `inventory` as a parameter. Inside the function, implement the code for printing the updated inventory.\n",
    "\n",
    "7. Call the functions in the appropriate sequence to execute the program and manage customer orders.\n",
    "\n",
    "Hints for functions:\n",
    "\n",
    "- Consider the input parameters required for each function and their return values.\n",
    "- Utilize function parameters and return values to transfer data between functions.\n",
    "- Test your functions individually to ensure they work correctly.\n",
    "\n",
    "\n"
   ]
  },
  {
   "cell_type": "code",
   "execution_count": null,
   "id": "ba6500b2",
   "metadata": {},
   "outputs": [],
   "source": [
    "#1\n",
    "def initialize_inventory(products):\n",
    "    inventory = {}\n",
    "    for product in products:\n",
    "        quantity = int(input(f\"Enter quantity for {product}: \"))\n",
    "        inventory[product] = quantity\n",
    "    return inventory #outside the loop so that the function collects quantities for all products before returning inventory dictionary.\n",
    "\n",
    "#Products - outside the function, passed as argument\n",
    "products = [\"t-shirt\", \"mug\", \"hat\", \"book\", \"keychain\"]\n",
    "inventory = initialize_inventory(products) #storing returned inventory in a variable "
   ]
  },
  {
   "cell_type": "code",
   "execution_count": null,
   "id": "e83ebe5e",
   "metadata": {},
   "outputs": [],
   "source": [
    "#2\n",
    "def get_customer_orders ():\n",
    "    customer_orders = set()\n",
    "    continue_loop = True\n",
    "    \n",
    "    while continue_loop:\n",
    "        product = input(\"Please enter a product: \")\n",
    "        customer_orders.add(product)\n",
    "        \n",
    "        question = input(\"Would you like to add another product. Type 'yes'or 'no'\")\n",
    "        \n",
    "        if question.lower() == 'no':\n",
    "            continue_loop = False\n",
    "        \n",
    "    return customer_orders\n",
    "\n",
    "customer_orders = get_customer_orders() #store return in a variable that can be passed as argument in the next function"
   ]
  },
  {
   "cell_type": "code",
   "execution_count": null,
   "id": "0bf3fd9d",
   "metadata": {},
   "outputs": [],
   "source": [
    "#3\n",
    "def update_inventory(customer_orders, inventory):\n",
    "    \n",
    "    for key, value in inventory.items():\n",
    "        if key in customer_orders:\n",
    "            inventory[key] -= 1\n",
    "    return inventory\n",
    "\n",
    "update_inventory(customer_orders, inventory)"
   ]
  },
  {
   "cell_type": "code",
   "execution_count": null,
   "id": "44b09039",
   "metadata": {},
   "outputs": [],
   "source": [
    "#4\n",
    "def calculate_order_statistics(customer_orders, products):\n",
    "    total_products = len(customer_orders)\n",
    "    sum_inventory = sum(inventory.values()) #Calculating initial inventory\n",
    "    percentage = int(total_products/sum_inventory *100) #Calculating percentage \n",
    "    order_status = (total_products, percentage) #Order status tuple\n",
    "    return order_status\n",
    "\n",
    "order_statistics = calculate_order_statistics(customer_orders, products)"
   ]
  },
  {
   "cell_type": "code",
   "execution_count": null,
   "id": "d751d001",
   "metadata": {},
   "outputs": [],
   "source": [
    "#5\n",
    "def print_order_statistics(order_statistics):\n",
    "    print(\"Order Statistics: \")\n",
    "    print(\"Total Products Ordered:\",order_statistics[0])\n",
    "    print(\"Percentage of Products Ordered:\", order_statistics[1], \"%\")\n",
    "\n",
    "print_order_statistics(order_statistics)"
   ]
  },
  {
   "cell_type": "code",
   "execution_count": null,
   "id": "74a94f59",
   "metadata": {},
   "outputs": [],
   "source": [
    "#6\n",
    "def print_updated_inventory(inventory):\n",
    "    for key, value in inventory.items():\n",
    "        print(key + \":\", value)\n",
    "    \n",
    "print_updated_inventory(inventory)"
   ]
  }
 ],
 "metadata": {
  "kernelspec": {
   "display_name": "Python 3 (ipykernel)",
   "language": "python",
   "name": "python3"
  },
  "language_info": {
   "codemirror_mode": {
    "name": "ipython",
    "version": 3
   },
   "file_extension": ".py",
   "mimetype": "text/x-python",
   "name": "python",
   "nbconvert_exporter": "python",
   "pygments_lexer": "ipython3",
   "version": "3.1.-1"
  }
 },
 "nbformat": 4,
 "nbformat_minor": 5
}
